{
  "nbformat": 4,
  "nbformat_minor": 0,
  "metadata": {
    "colab": {
      "name": "Copy of Assignment1_5935_5755_5797_5476(4/5/21).ipynb",
      "provenance": [],
      "collapsed_sections": []
    },
    "kernelspec": {
      "name": "python3",
      "display_name": "Python 3"
    },
    "language_info": {
      "name": "python"
    }
  },
  "cells": [
    {
      "cell_type": "code",
      "metadata": {
        "id": "TjiO9y78zecz"
      },
      "source": [
        "import numpy as np\n",
        "import matplotlib\n",
        "import imageio\n",
        "from numpy import linalg as LA\n",
        "from sklearn.neighbors import KNeighborsClassifier\n",
        "from sklearn import metrics\n",
        "from matplotlib import pyplot as plt\n",
        "import os\n",
        "from sklearn.model_selection import train_test_split"
      ],
      "execution_count": null,
      "outputs": []
    },
    {
      "cell_type": "markdown",
      "metadata": {
        "id": "wfKjYsMmTaxz"
      },
      "source": [
        "1. Download the Dataset and Understand the Format (10 Points)"
      ]
    },
    {
      "cell_type": "code",
      "metadata": {
        "id": "Oxumek3UTVOg",
        "colab": {
          "base_uri": "https://localhost:8080/"
        },
        "outputId": "e84576a0-ac65-4325-9f76-becf4802349d"
      },
      "source": [
        "#This cell is responsible for connecting the notebook with my google drive to access the dataset\n",
        "from google.colab import drive\n",
        "drive.mount('/content/drive')"
      ],
      "execution_count": null,
      "outputs": [
        {
          "output_type": "stream",
          "text": [
            "Mounted at /content/drive\n"
          ],
          "name": "stdout"
        }
      ]
    },
    {
      "cell_type": "markdown",
      "metadata": {
        "id": "dy0cmZEN3Q9Q"
      },
      "source": [
        "2. Generate the Data Matrix and the Label vector (10 Points)"
      ]
    },
    {
      "cell_type": "code",
      "metadata": {
        "id": "J1di6_1eyT1R"
      },
      "source": [
        "def Generate(path, folder_num, image_num, images_total):\n",
        "#path = \"/content/drive/MyDrive/ORL_dataset\"\n",
        "  sub_id = 1\n",
        "  img_num = 1\n",
        "  d = np.zeros((0, 10304), int)       #Data Matrix (D) \n",
        "  label_y= np.zeros(images_total, int)         #Label Vector (label_y)\n",
        "  for i in range(folder_num):\n",
        "          sub_id = i + 1\n",
        "          for j in range(image_num):\n",
        "              img_num = j + 1\n",
        "              #print(path+str(sub_id)+'/'+str(img_num)+'.pgm')\n",
        "              imgvctr = imageio.imread(path+str(sub_id)+'/'+str(img_num)+'.pgm')\n",
        "              x=np.array(imgvctr)\n",
        "              flat = x.flatten()\n",
        "              d = np.append(d, np.array([flat]), axis=0)\n",
        "              label_y[i*image_num+j]=sub_id\n",
        "  print(\"Data Matrix: 400x10304\\n\",d)\n",
        "  print(\"\\nY label vector: \\n\",label_y)\n",
        "  return d, label_y  "
      ],
      "execution_count": null,
      "outputs": []
    },
    {
      "cell_type": "code",
      "metadata": {
        "colab": {
          "base_uri": "https://localhost:8080/"
        },
        "id": "H0PSOtLCJztP",
        "outputId": "5e45e6a8-29c4-4157-8dd6-f83d673cb453"
      },
      "source": [
        "d, label_y = Generate(\"/content/drive/MyDrive/ORL_dataset/s\",40,10,400)"
      ],
      "execution_count": null,
      "outputs": [
        {
          "output_type": "stream",
          "text": [
            "Data Matrix: 400x10304\n",
            " [[ 48  49  45 ...  47  46  46]\n",
            " [ 60  60  62 ...  32  34  34]\n",
            " [ 39  44  53 ...  29  26  29]\n",
            " ...\n",
            " [125 119 124 ...  36  39  40]\n",
            " [119 120 120 ...  89  94  85]\n",
            " [125 124 124 ...  36  35  34]]\n",
            "\n",
            "Y label vector: \n",
            " [ 1  1  1  1  1  1  1  1  1  1  2  2  2  2  2  2  2  2  2  2  3  3  3  3\n",
            "  3  3  3  3  3  3  4  4  4  4  4  4  4  4  4  4  5  5  5  5  5  5  5  5\n",
            "  5  5  6  6  6  6  6  6  6  6  6  6  7  7  7  7  7  7  7  7  7  7  8  8\n",
            "  8  8  8  8  8  8  8  8  9  9  9  9  9  9  9  9  9  9 10 10 10 10 10 10\n",
            " 10 10 10 10 11 11 11 11 11 11 11 11 11 11 12 12 12 12 12 12 12 12 12 12\n",
            " 13 13 13 13 13 13 13 13 13 13 14 14 14 14 14 14 14 14 14 14 15 15 15 15\n",
            " 15 15 15 15 15 15 16 16 16 16 16 16 16 16 16 16 17 17 17 17 17 17 17 17\n",
            " 17 17 18 18 18 18 18 18 18 18 18 18 19 19 19 19 19 19 19 19 19 19 20 20\n",
            " 20 20 20 20 20 20 20 20 21 21 21 21 21 21 21 21 21 21 22 22 22 22 22 22\n",
            " 22 22 22 22 23 23 23 23 23 23 23 23 23 23 24 24 24 24 24 24 24 24 24 24\n",
            " 25 25 25 25 25 25 25 25 25 25 26 26 26 26 26 26 26 26 26 26 27 27 27 27\n",
            " 27 27 27 27 27 27 28 28 28 28 28 28 28 28 28 28 29 29 29 29 29 29 29 29\n",
            " 29 29 30 30 30 30 30 30 30 30 30 30 31 31 31 31 31 31 31 31 31 31 32 32\n",
            " 32 32 32 32 32 32 32 32 33 33 33 33 33 33 33 33 33 33 34 34 34 34 34 34\n",
            " 34 34 34 34 35 35 35 35 35 35 35 35 35 35 36 36 36 36 36 36 36 36 36 36\n",
            " 37 37 37 37 37 37 37 37 37 37 38 38 38 38 38 38 38 38 38 38 39 39 39 39\n",
            " 39 39 39 39 39 39 40 40 40 40 40 40 40 40 40 40]\n"
          ],
          "name": "stdout"
        }
      ]
    },
    {
      "cell_type": "markdown",
      "metadata": {
        "id": "lf5y7JB-3Zd7"
      },
      "source": [
        "3. Split the Dataset into Training and Test sets (10 Points)"
      ]
    },
    {
      "cell_type": "code",
      "metadata": {
        "id": "T0ZIwZmD1igW"
      },
      "source": [
        "def Split(d, label_y,image_num,even_odd,percentage_test):\n",
        "  images_total=len(d)\n",
        "  print(images_total)\n",
        "  d_train = np.empty((0, 10304), int)\n",
        "  d_test = np.empty((0, 10304), int)\n",
        "  y_train = np.array([])\n",
        "  y_test = np.array([])\n",
        "  test_subjectimages=0\n",
        "  for i in range(images_total):\n",
        "    if (even_odd==1):#If the user wants to split the dataset on even and odd images\n",
        "      test_subjectimages=5 #images per subject\n",
        "      if i % 2 == 0:\n",
        "          d_test = np.append(d_test, [d[i]], axis=0)\n",
        "          y_test = np.append(y_test, [label_y[i]], axis=0)\n",
        "      else :\n",
        "          d_train = np.append(d_train, [d[i]], axis=0)\n",
        "          y_train = np.append(y_train, [label_y[i]], axis=0)\n",
        "    else :#if the user wants to split D into any percentage\n",
        "      count=i%image_num #image num is number of images per subject\n",
        "      test_subjectimages=percentage_test*image_num\n",
        "      if (count<percentage_test*image_num):\n",
        "          #print(count)\n",
        "          d_train = np.append(d_train, [d[i]], axis=0)\n",
        "          y_train = np.append(y_train, [label_y[i]], axis=0)\n",
        "      else:\n",
        "          d_test = np.append(d_test, [d[i]], axis=0)\n",
        "          y_test = np.append(y_test, [label_y[i]], axis=0)\n",
        "  print(\"Training Dataset: \\n\",d_train)\n",
        "  print(\"Dimensions: \",d_train.shape)\n",
        "  print(\"\\nTesting Dataset: \\n\",d_test)\n",
        "  print(\"Dimensions: \",d_test.shape)\n",
        "  return d_test, y_test, d_train, y_train,test_subjectimages"
      ],
      "execution_count": null,
      "outputs": []
    },
    {
      "cell_type": "code",
      "metadata": {
        "colab": {
          "base_uri": "https://localhost:8080/"
        },
        "id": "kp-YStwbKnDv",
        "outputId": "0085f8f8-b410-481a-d801-964eb6f120cf"
      },
      "source": [
        "d_test, y_test, d_train, y_train,test_subjectimages = Split(d,label_y,10,1,0.5)"
      ],
      "execution_count": null,
      "outputs": [
        {
          "output_type": "stream",
          "text": [
            "400\n",
            "Training Dataset: \n",
            " [[ 60  60  62 ...  32  34  34]\n",
            " [ 63  53  35 ...  41  10  24]\n",
            " [ 43  50  41 ... 158 153 169]\n",
            " ...\n",
            " [123 121 126 ...  40  35  42]\n",
            " [125 119 124 ...  36  39  40]\n",
            " [125 124 124 ...  36  35  34]]\n",
            "Dimensions:  (200, 10304)\n",
            "\n",
            "Testing Dataset: \n",
            " [[ 48  49  45 ...  47  46  46]\n",
            " [ 39  44  53 ...  29  26  29]\n",
            " [ 64  76  80 ...  35  37  39]\n",
            " ...\n",
            " [128 125 125 ...  85  90  84]\n",
            " [129 127 133 ...  93  93  93]\n",
            " [119 120 120 ...  89  94  85]]\n",
            "Dimensions:  (200, 10304)\n"
          ],
          "name": "stdout"
        }
      ]
    },
    {
      "cell_type": "markdown",
      "metadata": {
        "id": "l3Crar213pcl"
      },
      "source": [
        "4. Classification using PCA (30 points)"
      ]
    },
    {
      "cell_type": "code",
      "metadata": {
        "id": "yasjA0oOOX2u"
      },
      "source": [
        "def PCA(d_test, y_test, d_train, y_train, images_total):\n",
        "  mean_vector = np.mean(d_train,axis=0)\n",
        "  z_train = d_train-mean_vector\n",
        "  z_test = d_test-mean_vector\n",
        "  cov = 1/(images_total/2)*np.dot(z_train.T,z_train)\n",
        "  eigen_values, eigen_vectors = LA.eigh(cov)\n",
        "  eigen_diag = np.diag(eigen_values)\n",
        "#A copy before fliping\n",
        "  eigen_vectors_bff = eigen_vectors\n",
        "#Gonna have those duplicates in order to save runtime if sth happened i'll have a backup of eigen val and vec\n",
        "  eigen_vectors_save = eigen_vectors\n",
        "  eigen_values_save = eigen_values\n",
        "#sort the array in place in descending order\n",
        "  eigen_values[::-1].sort() \n",
        "  eigen_values_sum = np.sum(eigen_values)\n",
        "  eigen_vectors = np.flip(eigen_vectors_save,axis=1)\n",
        "  print(\"Eigen Values Sum\",eigen_values_sum)\n",
        "  print(\"Eigen Vectors: \\n\",eigen_vectors)\n",
        "  x = 0\n",
        "  r1 = 0\n",
        "  r2 = 0\n",
        "  r3 = 0\n",
        "  r4 = 0\n",
        "  sum = 0\n",
        "  for x in range(np.size(eigen_values,0)):\n",
        "    sum = sum + eigen_values[x]\n",
        "  \n",
        "    if (sum/eigen_values_sum>=0.8 and r1==0):\n",
        "      r1=x\n",
        "    elif (sum/eigen_values_sum >= 0.85 and r2==0):\n",
        "      r2=x\n",
        "    elif (sum/eigen_values_sum>=0.9 and r3==0):\n",
        "      r3=x\n",
        "    elif (sum/eigen_values_sum>=0.95 and r4==0):\n",
        "      r4=x\n",
        "      break\n",
        "#Computing the projection vectors for alpha = 0.8\n",
        "  print(\"Number of principle compenents is: \",r1+1)\n",
        "  projection_U1 = np.zeros((10304,r1+1))\n",
        "  projection_U1 = eigen_vectors[:,:r1+1]\n",
        " # print(\"Projection Matrix U1: \\n\",projection_U1)\n",
        "  projected_data_u1 = np.dot(d_train,projection_U1)\n",
        "  projected_data_test_u1 = np.dot(d_test,projection_U1)\n",
        "#Computing the projection vectors for alpha = 0.85\n",
        "  print(\"Number of principle compenents is: \",r2+1)\n",
        "  projection_U2 = np.zeros((10304,r2+1))\n",
        "  projection_U2 = eigen_vectors[:,:r2+1]\n",
        " # print(\"Projection Matrix U2: \\n\",projection_U2)\n",
        "  projected_data_u2 = np.dot(d_train,projection_U2)\n",
        "  projected_data_test_u2 = np.dot(d_test,projection_U2)\n",
        "#Computing the projection vectors for alpha = 0.9\n",
        "  print(\"Number of principle compenents is: \",r3+1)\n",
        "  projection_U3 = np.zeros((10304,r3+1))\n",
        "  projection_U3 = eigen_vectors[:,:r3+1]\n",
        " # print(\"Projection Matrix U3: \\n\",projection_U3)\n",
        "  projected_data_u3 = np.dot(d_train,projection_U3)\n",
        "  projected_data_test_u3 = np.dot(d_test,projection_U3)\n",
        "#Computing the projection vectors for alpha = 0.95\n",
        "  print(\"Number of principle compenents is: \",r4+1)\n",
        "  projection_U4 = np.zeros((10304,r4+1))\n",
        "  projection_U4 = eigen_vectors[:,:r4+1]\n",
        " # print(\"Projection Matrix U4: \\n\",projection_U4)\n",
        "  projected_data_u4 = np.dot(d_train,projection_U4)\n",
        "  projected_data_test_u4 = np.dot(d_test,projection_U4)\n",
        "  return mean_vector, projected_data_u1, projected_data_u2, projected_data_u3, projected_data_u4, projected_data_test_u1, projected_data_test_u2, projected_data_test_u3, projected_data_test_u4"
      ],
      "execution_count": null,
      "outputs": []
    },
    {
      "cell_type": "code",
      "metadata": {
        "colab": {
          "base_uri": "https://localhost:8080/"
        },
        "id": "8xN9Bj01KtyH",
        "outputId": "e48181cb-55f8-4ba9-8020-9abfc52d3904"
      },
      "source": [
        "mean_vector, projected_data_u1, projected_data_u2, projected_data_u3, projected_data_u4, projected_data_test_u1, projected_data_test_u2, projected_data_test_u3, projected_data_test_u4 = PCA(d_test, y_test, d_train, y_train,400)"
      ],
      "execution_count": null,
      "outputs": [
        {
          "output_type": "stream",
          "text": [
            "Eigen Values Sum 15955336.34384999\n",
            "Eigen Vectors: \n",
            " [[ 0.00124556 -0.01536171 -0.01891079 ...  0.          0.\n",
            "   0.        ]\n",
            " [ 0.00126454 -0.01513146 -0.01911777 ...  0.1092101  -0.51687691\n",
            "  -0.11110271]\n",
            " [ 0.00156465 -0.01516195 -0.01903942 ... -0.10370035 -0.02908354\n",
            "   0.38728327]\n",
            " ...\n",
            " [ 0.00873725  0.00961112 -0.01287451 ... -0.01210184  0.01558358\n",
            "  -0.00664297]\n",
            " [ 0.00721705  0.0077597  -0.01377318 ... -0.00614026 -0.00762443\n",
            "   0.00134965]\n",
            " [ 0.0084008   0.00692708 -0.01438815 ... -0.02588449 -0.00739132\n",
            "  -0.01097345]]\n",
            "Number of principle compenents is:  37\n",
            "Number of principle compenents is:  53\n",
            "Number of principle compenents is:  77\n",
            "Number of principle compenents is:  116\n"
          ],
          "name": "stdout"
        }
      ]
    },
    {
      "cell_type": "markdown",
      "metadata": {
        "id": "wblsn3oRSNmb"
      },
      "source": [
        "c. Use a simple classifier (first Nearest Neighbor to determine the class labels). d. Report Accuracy for every value of alpha separately.\n"
      ]
    },
    {
      "cell_type": "code",
      "metadata": {
        "id": "FHRyoCCFRI9i"
      },
      "source": [
        "def KNN(n_neighbors, projected_data, projected_data_test, y_train, y_test):\n",
        "  knn = KNeighborsClassifier(n_neighbors)\n",
        "  knn.fit(projected_data, y_train)\n",
        "  y_pred = knn.predict(projected_data_test)\n",
        "  print(y_pred)\n",
        "  print(\"Accuracy:\",metrics.accuracy_score(y_test, y_pred))\n",
        "  return metrics.accuracy_score(y_test, y_pred)"
      ],
      "execution_count": null,
      "outputs": []
    },
    {
      "cell_type": "code",
      "metadata": {
        "colab": {
          "base_uri": "https://localhost:8080/"
        },
        "id": "058U8EiEMXtM",
        "outputId": "f515b0f2-a37c-4621-fe47-cff19e304e05"
      },
      "source": [
        "KNN(1,projected_data_u1,projected_data_test_u1, y_train, y_test)\n",
        "KNN(1,projected_data_u2,projected_data_test_u2, y_train, y_test)\n",
        "KNN(1,projected_data_u3,projected_data_test_u3, y_train, y_test)\n",
        "KNN(1,projected_data_u4,projected_data_test_u4, y_train, y_test)"
      ],
      "execution_count": null,
      "outputs": [
        {
          "output_type": "stream",
          "text": [
            "[16.  2.  1.  1.  1.  2.  2.  2.  2.  2.  3.  3.  3.  3.  3.  4.  4.  4.\n",
            "  4.  4.  5.  5.  5.  5.  5.  6.  6.  6.  6.  6.  7.  7.  7.  7.  7.  8.\n",
            "  8.  8.  8.  8.  9.  9.  9.  9.  9. 10. 10. 10. 10. 38. 11. 11. 11. 11.\n",
            " 11. 12. 12. 12. 12. 12. 13. 13. 13. 13. 13. 14. 14. 14. 14. 14. 15. 15.\n",
            " 15. 15. 15. 16. 16. 16. 16. 16. 17. 17. 17. 17. 17. 18. 18. 18. 18. 18.\n",
            " 19. 19. 19. 19. 36. 20. 20.  3. 20. 20. 21. 21. 21. 21. 21. 22. 22. 22.\n",
            " 22. 22. 23. 23. 23. 23. 23. 24. 24. 24. 24. 24. 25. 25. 25. 25. 25. 26.\n",
            " 26. 26. 26. 26. 27. 27. 27. 27. 27. 28. 28. 28. 28. 28. 29. 29. 29. 29.\n",
            " 29. 30. 30. 30. 30. 30. 31. 31. 31. 21. 31. 32. 32. 32.  2. 32. 33. 33.\n",
            " 33. 33. 33. 34. 34. 34. 34. 34. 40. 15. 35. 35. 35.  7. 36.  7. 36. 36.\n",
            " 37. 37. 37. 37. 37. 38. 38. 38. 38. 38. 39. 39. 39. 39. 39. 40. 40.  5.\n",
            "  5.  5.]\n",
            "Accuracy: 0.93\n",
            "[16. 19.  1.  1.  1.  2.  2.  2.  2.  2.  3.  3.  3.  3.  3.  4.  4.  4.\n",
            "  4.  4.  5.  5.  5.  5.  5.  6.  6.  6.  6.  6.  7.  7.  7.  7.  7.  8.\n",
            "  8.  8.  8.  8.  9.  9.  9.  9.  9. 10. 10. 10. 10. 38. 11. 11. 11. 11.\n",
            " 11. 12. 12. 12. 12. 12. 13. 13. 13. 13. 13. 14. 14. 14. 14. 14. 15. 15.\n",
            " 15. 15. 15. 16. 16. 16. 16. 16. 17. 17. 17. 17. 17. 18. 18. 18. 18. 18.\n",
            " 19. 19. 19. 19. 36. 20. 20.  3. 20. 20. 21. 21. 21. 21. 21. 22. 22. 22.\n",
            " 22. 22. 23. 23. 23. 23. 23. 24. 24. 24. 24. 24. 25. 25. 25. 25. 25. 26.\n",
            " 26. 26. 26. 26. 27. 27. 27. 27. 27. 28. 28. 28. 28. 28. 29. 29. 29. 29.\n",
            " 29. 30. 30. 30. 30. 30. 31. 31. 31. 21. 31. 32. 32. 32. 32. 32. 33. 33.\n",
            " 33. 33. 33. 34. 34. 34. 34. 34. 40. 35. 35. 35. 35.  7. 36.  7. 36. 36.\n",
            " 37. 37. 37. 37. 37. 38. 38. 38. 38. 38. 39. 39. 39. 39. 39. 40. 40.  5.\n",
            "  5.  5.]\n",
            "Accuracy: 0.94\n",
            "[16.  2.  1.  1.  1.  2.  2.  2.  2.  2.  3.  3.  3.  3.  3.  4.  4.  4.\n",
            "  4.  4.  5.  5.  5.  5.  5.  6.  6.  6.  6.  6.  7.  7.  7.  7.  7.  8.\n",
            "  8.  8.  8.  8.  9.  9.  9.  9.  9. 10. 10. 10. 10. 38. 11. 11. 11. 11.\n",
            " 11. 12. 12. 12. 12. 12. 13. 13. 13. 13. 13. 14. 14. 14. 14. 14. 15. 15.\n",
            " 15. 15. 15. 16. 16. 16. 16. 16. 17. 17. 17. 17. 17. 18. 18. 18. 18. 18.\n",
            " 19. 19. 19. 19.  8. 20. 20.  3. 20. 20. 21. 21. 21. 21. 21. 22. 22. 22.\n",
            " 22. 22. 23. 23. 23. 23. 23. 24. 24. 24. 24. 24. 25. 25. 25. 25. 25. 26.\n",
            " 26. 26. 26. 26. 27. 27. 27. 27. 27. 28. 28. 28. 28. 28. 29. 29. 29. 29.\n",
            " 29. 30. 30. 30. 30. 30. 31. 31. 31. 21. 31. 32. 32. 32. 32. 32. 33. 33.\n",
            " 33. 33. 33. 34. 34. 34. 34. 34. 40. 35. 35. 35. 35. 36. 36.  7. 36. 36.\n",
            " 37. 37. 37. 37. 37. 38. 38. 38. 38. 38. 39. 39. 39. 39. 39. 40. 40.  5.\n",
            "  5.  5.]\n",
            "Accuracy: 0.945\n",
            "[16.  2.  1.  1.  1.  2.  2.  2.  2.  2.  3.  3.  3.  3.  3.  4.  4.  4.\n",
            "  4.  4.  5.  5.  5.  5.  5.  6.  6.  6.  6.  6.  7.  7.  7.  7.  7.  8.\n",
            "  8.  8.  8.  8.  9.  9.  9.  9.  9. 10. 10. 10. 10. 38. 11. 11. 11. 11.\n",
            " 11. 12. 12. 12. 12. 12. 13. 13. 13. 13. 13. 14. 14. 14. 14. 14. 15. 15.\n",
            " 15. 15. 15. 16. 16. 16. 16. 16. 17. 17. 17. 17. 17. 18. 18. 18. 18. 18.\n",
            " 19. 19. 19. 19.  8. 20. 20.  3. 20. 20. 21. 21. 21. 21. 21. 22. 22. 22.\n",
            " 22. 22. 23. 23. 23. 23. 23. 24. 24. 24. 24. 24. 25. 25. 25. 25. 25. 26.\n",
            " 26. 26. 26. 26. 27. 27. 27. 27. 27. 28. 28. 28. 28. 28. 29. 29. 29. 29.\n",
            " 29. 30. 30. 30. 30. 30. 31. 31. 31. 30. 31. 32. 32. 32.  2. 32. 33. 33.\n",
            " 33. 33. 33. 34. 34. 34. 34. 34. 40. 35. 35. 35. 35. 36. 36.  7. 36. 36.\n",
            " 37. 37. 37. 37. 37. 38. 38. 38. 38. 23. 39. 39. 39. 39. 39. 40. 40.  5.\n",
            "  5.  5.]\n",
            "Accuracy: 0.935\n"
          ],
          "name": "stdout"
        },
        {
          "output_type": "execute_result",
          "data": {
            "text/plain": [
              "0.935"
            ]
          },
          "metadata": {
            "tags": []
          },
          "execution_count": 11
        }
      ]
    },
    {
      "cell_type": "markdown",
      "metadata": {
        "id": "u2cSNaDEuSwn"
      },
      "source": [
        "6. Classifier Tuning (20 Points) for PCA"
      ]
    },
    {
      "cell_type": "code",
      "metadata": {
        "id": "r2UNhzTVuSVj",
        "colab": {
          "base_uri": "https://localhost:8080/",
          "height": 367
        },
        "outputId": "b517e958-c634-4841-ea12-39490bf1dd43"
      },
      "source": [
        "#for alpha=  0.95\n",
        "accuracy_arr=np.zeros(4)\n",
        "k_values=np.array([1,3,5,7])\n",
        "for i in range(4):\n",
        "  knn = KNeighborsClassifier(n_neighbors=k_values[i])\n",
        "  knn.fit(projected_data_u4, y_train)\n",
        "  y_pred = knn.predict(projected_data_test_u4)\n",
        "  #print(y_pred)\n",
        "  accuracy_arr[i]=metrics.accuracy_score(y_test, y_pred)\n",
        "  print(\"Accuracy:\",accuracy_arr[i])\n",
        "\n",
        "plt.plot(k_values,accuracy_arr)\n",
        "plt.xlabel(\"k values\")\n",
        "plt.ylabel(\"accuracy\")\n",
        "plt.title('Performance Measure')\n",
        "plt.show() \n"
      ],
      "execution_count": null,
      "outputs": [
        {
          "output_type": "stream",
          "text": [
            "Accuracy: 0.935\n",
            "Accuracy: 0.845\n",
            "Accuracy: 0.815\n",
            "Accuracy: 0.74\n"
          ],
          "name": "stdout"
        },
        {
          "output_type": "display_data",
          "data": {
            "image/png": "[encoded data removed]",
            "text/plain": [
              "<Figure size 432x288 with 1 Axes>"
            ]
          },
          "metadata": {
            "tags": [],
            "needs_background": "light"
          }
        }
      ]
    },
    {
      "cell_type": "markdown",
      "metadata": {
        "id": "X1SM0VjY_3yx"
      },
      "source": [
        "5. Classification Using LDA (30 Points)"
      ]
    },
    {
      "cell_type": "code",
      "metadata": {
        "id": "1ZmdIFnrgUPM"
      },
      "source": [
        "def LDA(d_test, d_train,test_subjectimages):\n",
        "  classmeans=np.empty((0, 10304), float)\n",
        "  subject = np.empty((0, 10304), float)\n",
        "  z_train = np.empty((0, 10304), float)\n",
        "  s=np.zeros((10304,10304))#zT.z is a DxD matrix\n",
        "  sb =np.zeros((10304,10304))\n",
        "  print(test_subjectimages)\n",
        "  for i in range (len(d_train)):\n",
        "    image_no=i+1\n",
        "    subject=np.append(subject,([d_train[i]]),axis=0)\n",
        "    #print(image_no%test_subjectimages)\n",
        "    if(image_no%test_subjectimages==0):#checking if a class is loaded\n",
        "      print(\"class\")\n",
        "      #Calculating mean of each class and appending it to classmeans vector\n",
        "      subject_mean=np.mean(subject,axis=0)\n",
        "      #subject_mean.reshap\n",
        "      rows = len(subject_mean)\n",
        "      # print(subject_mean)\n",
        "      classmeans = np.append(classmeans, ([subject_mean]),axis=0)\n",
        "      #subject_mean=classmeans\n",
        "      #Calculating class scatter\n",
        "      bracket1=classmeans-mean_vector\n",
        "      #print((bracket1*bracket1.T).shape)\n",
        "      sb+=5*np.dot(bracket1.T,bracket1)\n",
        "      #Centralizing each class (subject)\n",
        "      z_train=subject-subject_mean\n",
        "      z_train_trans=np.transpose(z_train)\n",
        "      #Calculating class scatter matrix\n",
        "      s+=np.dot(z_train_trans,z_train)\n",
        "      #Deleting arrays to be used again in loops\n",
        "      subject = np.empty((0, 10304), float)\n",
        "      z_train = np.empty((0, 10304), float)\n",
        "      classmeans=np.empty((0, 10304), float)\n",
        "      #print(sb)\n",
        "  sinv=LA.inv(s)\n",
        "  eigen_values_lda, eigen_vectors_lda = LA.eigh(np.dot(sinv,sb))\n",
        "  print(\"Class Mean matrix dimensions\")\n",
        "  print(classmeans.shape)\n",
        "\n",
        "  print(\"Between Class scatter Matrix (Sb) dimensions \")\n",
        "  print(sb.shape)\n",
        "  print(\"Within scatter class matrix (s) dimensions\")\n",
        "  print(s.shape)\n",
        "  #take real values from eigen vectors\n",
        "  #real values used in eigen vectors (??)\n",
        "  eigen_vectors_lda_real=eigen_vectors_lda.real\n",
        "  eigen_values_lda_real=eigen_values_lda.real\n",
        "  ##id = eigen_values_lda_real.argsort()[::-1]\n",
        "  #eigen_values_lda_real_sorted = eigen_values_lda_real[id]\n",
        "  #eigen_vectors_lda_real_sorted = eigen_vectors_lda_real[:,id]\n",
        "  #print(eigen_vectors_lda_real_sorted)\n",
        "  #print(eigen_values_lda_real_sorted)\n",
        "  projection_U39 = np.zeros((10304,39))\n",
        "  projection_U39 = eigen_vectors_lda_real[:,:39]\n",
        "  print(\"Projection Matrix U39: \\n\",projection_U39)\n",
        "  projected_data = np.dot(d_train,projection_U39)\n",
        "  projected_data_test = np.dot(d_test,projection_U39)\n",
        "  projection_U39.T.shape\n",
        "  return projected_data, projected_data_test"
      ],
      "execution_count": null,
      "outputs": []
    },
    {
      "cell_type": "code",
      "metadata": {
        "colab": {
          "base_uri": "https://localhost:8080/"
        },
        "id": "92XEc7FZOzsc",
        "outputId": "8da1678e-e3dd-4a38-b581-a94dec55ec21"
      },
      "source": [
        "projected_data, projected_data_test=LDA(d_test, d_train,test_subjectimages)"
      ],
      "execution_count": null,
      "outputs": [
        {
          "output_type": "stream",
          "text": [
            "5\n",
            "class\n",
            "class\n",
            "class\n",
            "class\n",
            "class\n",
            "class\n",
            "class\n",
            "class\n",
            "class\n",
            "class\n",
            "class\n",
            "class\n",
            "class\n",
            "class\n",
            "class\n",
            "class\n",
            "class\n",
            "class\n",
            "class\n",
            "class\n",
            "class\n",
            "class\n",
            "class\n",
            "class\n",
            "class\n",
            "class\n",
            "class\n",
            "class\n",
            "class\n",
            "class\n",
            "class\n",
            "class\n",
            "class\n",
            "class\n",
            "class\n",
            "class\n",
            "class\n",
            "class\n",
            "class\n",
            "class\n",
            "Class Mean matrix dimensions\n",
            "(0, 10304)\n",
            "Between Class scatter Matrix (Sb) dimensions \n",
            "(10304, 10304)\n",
            "Within scatter class matrix (s) dimensions\n",
            "(10304, 10304)\n",
            "Projection Matrix U39: \n",
            " [[ 0.00568389 -0.00222031  0.02399025 ... -0.00881842  0.03084043\n",
            "  -0.029262  ]\n",
            " [ 0.00577376 -0.00225115  0.02443152 ... -0.00941569  0.03298572\n",
            "  -0.03235207]\n",
            " [ 0.00577556 -0.00231717  0.02426824 ... -0.00955135  0.03398462\n",
            "  -0.03282301]\n",
            " ...\n",
            " [-0.01738069 -0.01622185  0.0069088  ...  0.02000747  0.00357514\n",
            "   0.01119794]\n",
            " [ 0.02014294  0.02378041 -0.00023147 ... -0.02360325 -0.00635444\n",
            "  -0.01957374]\n",
            " [ 0.00519431  0.01013622  0.00490487 ... -0.0062135  -0.00513145\n",
            "  -0.0066143 ]]\n"
          ],
          "name": "stdout"
        }
      ]
    },
    {
      "cell_type": "markdown",
      "metadata": {
        "id": "Twmb6ggieGRu"
      },
      "source": [
        "c. Use a simple classifier (first Nearest Neighbor to determine the class labels)"
      ]
    },
    {
      "cell_type": "code",
      "metadata": {
        "id": "3mAfX6YJZeCC",
        "colab": {
          "base_uri": "https://localhost:8080/"
        },
        "outputId": "cc671989-24a2-4ba1-b09d-f20cec83f4e7"
      },
      "source": [
        "accuracy_arr[0]=KNN(1, projected_data, projected_data_test, y_train, y_test)"
      ],
      "execution_count": null,
      "outputs": [
        {
          "output_type": "stream",
          "text": [
            "[16. 32.  1.  1.  1.  2.  2.  2.  2.  2.  3.  3.  3.  3.  3.  4.  4.  4.\n",
            "  4.  4.  5.  5.  5.  5.  5.  6.  6.  6.  6.  6.  7.  7.  7.  7.  7.  8.\n",
            "  8.  8.  8.  8.  9.  9.  9.  9.  9. 10. 10. 10. 10. 10. 11. 11. 11. 11.\n",
            " 11. 12. 12. 12. 12. 12. 13. 13. 13. 13. 13. 14. 14. 14. 14. 14. 15. 15.\n",
            " 15. 15. 15. 16. 16. 16. 16. 16. 17. 17. 17. 17. 17. 18. 18. 18. 18. 18.\n",
            " 19. 19. 19. 19. 19. 20. 20.  3. 20. 20. 21. 21. 21. 21. 21. 22. 22. 22.\n",
            " 22. 22. 23. 23. 23. 23. 23. 24. 24. 24. 24. 24. 25. 25. 25. 25. 25. 26.\n",
            " 26. 26. 26. 26. 27. 27. 27. 27. 27. 28. 28. 28. 28. 28. 29. 29. 29. 29.\n",
            " 29. 30. 30. 30. 30. 30. 31. 31. 31. 21. 31. 32. 32. 32. 32. 32. 33. 33.\n",
            " 33. 33. 33. 34. 34. 34. 34. 34. 40. 35. 35. 35. 13.  7. 36.  7. 36. 36.\n",
            " 37. 37. 37. 37. 37. 38. 38. 38. 38. 23. 39. 39. 39. 39. 39. 40. 40. 40.\n",
            " 40. 35.]\n",
            "Accuracy: 0.95\n"
          ],
          "name": "stdout"
        }
      ]
    },
    {
      "cell_type": "markdown",
      "metadata": {
        "id": "gELfGmJHlckn"
      },
      "source": [
        "6. Classifier Tuning (20 Points) for LDA:"
      ]
    },
    {
      "cell_type": "code",
      "metadata": {
        "id": "_CZfcbiGlvtW",
        "colab": {
          "base_uri": "https://localhost:8080/"
        },
        "outputId": "d534d136-a5b7-4700-cce6-03b9257f680c"
      },
      "source": [
        "#number of neighbors = 3\n",
        "accuracy_arr[1]=KNN(3, projected_data, projected_data_test, y_train, y_test)"
      ],
      "execution_count": null,
      "outputs": [
        {
          "output_type": "stream",
          "text": [
            "[16.  1.  1.  1.  1.  2.  2.  2.  2.  2.  3.  3. 25.  3.  3.  4.  4.  4.\n",
            "  4.  4.  5.  5.  5.  5.  5.  6.  6.  6.  6.  6.  7.  7.  7.  7.  7.  8.\n",
            "  8.  8.  8.  8.  9.  9.  9.  9.  9. 10. 10. 10. 10. 10. 11. 11. 11. 11.\n",
            " 11. 12. 12. 12. 12. 12. 13. 13. 13. 13. 13. 14. 14. 14. 14. 14. 15. 15.\n",
            " 15. 15. 15. 15. 16.  1. 16. 16.  4.  3.  4. 17. 17. 18. 18. 18. 18. 18.\n",
            " 19. 19. 19. 19. 11. 20. 20.  3. 20. 20. 21. 21. 21. 21. 21. 22. 22. 22.\n",
            " 22. 22. 38. 23. 23. 23. 38. 24. 24. 24. 24. 24. 25. 25. 25. 25. 25. 26.\n",
            " 26. 26.  3. 26. 27. 27. 27. 27. 27. 28. 28. 28. 28. 19. 29. 29. 29. 29.\n",
            " 39. 30. 30. 30. 30. 30. 21. 31. 31. 21. 21. 32. 32. 32. 15. 32. 33. 33.\n",
            " 33. 33. 20. 34. 34. 34. 34. 34. 40. 15. 13. 35. 13.  7. 36.  7. 36. 36.\n",
            " 28. 28. 37. 28. 28. 38. 38. 38. 38.  9. 39. 39. 39. 21. 39. 40.  5.  5.\n",
            "  5.  5.]\n",
            "Accuracy: 0.825\n"
          ],
          "name": "stdout"
        }
      ]
    },
    {
      "cell_type": "code",
      "metadata": {
        "id": "3QILTyjtmTnv",
        "colab": {
          "base_uri": "https://localhost:8080/"
        },
        "outputId": "02629bde-66c3-43d9-8e97-14bc1eba229f"
      },
      "source": [
        "#number of neighbors = 5\n",
        "accuracy_arr[2]=KNN(5, projected_data, projected_data_test, y_train, y_test)"
      ],
      "execution_count": null,
      "outputs": [
        {
          "output_type": "stream",
          "text": [
            "[16.  1.  1.  1.  1.  2.  2.  2.  2.  2.  3.  3. 25.  3.  3.  4.  4.  4.\n",
            "  4.  4. 40. 40.  5.  5.  5.  6.  6.  6.  6.  6.  7.  7.  7.  7.  7.  8.\n",
            "  8.  8.  8.  8.  9.  9.  9.  9.  9. 10. 10. 10. 10. 10. 11. 11. 19. 11.\n",
            " 11. 12. 12. 12. 12. 12. 13. 13. 13. 13. 13. 37. 37. 37. 14. 14. 15. 15.\n",
            " 15. 35. 15. 15. 16.  1. 16. 16.  4.  3.  4. 17. 17. 18. 18. 18. 18. 18.\n",
            " 19. 19. 19. 19. 27. 20. 20.  3. 20. 23. 21. 21. 21. 21. 21. 22. 22. 22.\n",
            " 22. 22. 38. 23. 23. 23. 38. 24. 24. 24. 24. 24. 25. 25. 25. 25. 25. 26.\n",
            " 26. 26. 26. 26. 27. 27. 27. 11. 27. 28. 28. 19. 19. 27. 29. 29. 29. 29.\n",
            " 33. 30. 30. 30. 30. 30. 21. 31. 31. 21. 21. 32. 32. 32. 15. 32. 33. 33.\n",
            " 20. 33. 20. 34. 34. 34. 34. 34. 40. 15. 13. 35. 13.  7. 36.  7. 36. 36.\n",
            " 28. 28. 37. 28. 28. 38. 38. 38. 38. 38. 22. 39. 39. 29. 39. 40.  5. 35.\n",
            " 35.  5.]\n",
            "Accuracy: 0.77\n"
          ],
          "name": "stdout"
        }
      ]
    },
    {
      "cell_type": "code",
      "metadata": {
        "id": "61BAVG2rmZq-",
        "colab": {
          "base_uri": "https://localhost:8080/"
        },
        "outputId": "549cdad4-dc60-4062-b085-519de945c31a"
      },
      "source": [
        "#number of neighbors = 7\n",
        "accuracy_arr[3]=KNN(7, projected_data, projected_data_test, y_train, y_test)"
      ],
      "execution_count": null,
      "outputs": [
        {
          "output_type": "stream",
          "text": [
            "[16.  1.  1.  1.  1.  2.  2.  2.  2.  2.  3.  3. 25.  3.  3.  4.  4.  4.\n",
            "  4.  4. 40. 40.  5.  5.  5.  6.  6.  6.  6.  6.  7.  7.  7.  7.  7.  8.\n",
            "  8.  8.  8.  8.  9.  9.  9.  9.  9. 10. 10. 10. 10. 10. 11. 11. 14. 11.\n",
            " 11. 12. 12. 12. 12. 12. 13. 13. 13. 13. 13. 37. 37. 37. 14. 14. 15.  2.\n",
            " 35. 35.  4. 15. 16.  1. 16. 16.  4.  3.  4. 17. 17. 18. 18. 18. 18. 18.\n",
            " 19. 19. 19. 19. 27. 20. 20.  4. 20.  7. 21. 21. 21. 21. 21. 22. 22. 22.\n",
            " 22. 22. 38. 23. 23. 38. 38. 24. 24. 24. 24. 24. 25. 25. 25. 25. 25. 26.\n",
            " 26. 26. 26. 26. 19. 19. 27. 11.  2. 37. 37. 19. 19. 19. 29. 29. 29. 29.\n",
            " 33. 30. 30. 30. 30. 30. 21. 34. 34. 21. 21. 32. 32. 32.  2. 32. 33. 33.\n",
            " 20. 33. 20. 34. 34. 34. 34. 34. 40. 15. 13. 12. 13.  7.  7.  7. 36. 36.\n",
            " 28. 13. 37. 26. 13. 38. 38. 38. 38. 38. 22. 39. 39. 21. 39. 40.  5.  5.\n",
            "  5.  5.]\n",
            "Accuracy: 0.705\n"
          ],
          "name": "stdout"
        }
      ]
    },
    {
      "cell_type": "markdown",
      "metadata": {
        "id": "akS3e0OLBS3h"
      },
      "source": [
        "For one neighbour classification LDA resulted in higher accuracy than PCA. But when the number of neighbours increased, PCA had higher accuracy."
      ]
    },
    {
      "cell_type": "markdown",
      "metadata": {
        "id": "nFFPnkcJnvwI"
      },
      "source": [
        "plot the performance measure"
      ]
    },
    {
      "cell_type": "code",
      "metadata": {
        "id": "p4qvzZOFnraG",
        "colab": {
          "base_uri": "https://localhost:8080/",
          "height": 295
        },
        "outputId": "e36b47a0-c67b-43c0-967d-fbb854cb1746"
      },
      "source": [
        "k_values=np.array([1,3,5,7])\n",
        "plt.plot(k_values,accuracy_arr)\n",
        "plt.xlabel(\"k values\")\n",
        "plt.ylabel(\"accuracy\")\n",
        "plt.title('Performance Measure')\n",
        "plt.show()"
      ],
      "execution_count": null,
      "outputs": [
        {
          "output_type": "display_data",
          "data": {
            "image/png": "[encoded data removed]",
            "text/plain": [
              "<Figure size 432x288 with 1 Axes>"
            ]
          },
          "metadata": {
            "tags": [],
            "needs_background": "light"
          }
        }
      ]
    },
    {
      "cell_type": "markdown",
      "metadata": {
        "id": "Nh9Fq8MxzyoF"
      },
      "source": [
        "Faces vs Non-Faces Using PCA & LDA\n"
      ]
    },
    {
      "cell_type": "code",
      "metadata": {
        "id": "VxLx_jml108R",
        "colab": {
          "base_uri": "https://localhost:8080/"
        },
        "outputId": "0da24e64-cb01-417a-f1a2-e200028da99c"
      },
      "source": [
        "#read non face images and stack them into one matrix\n",
        "d_nf, label_y_nf = Generate(\"/content/drive/MyDrive/ORL_dataset1/\",2,100,200)\n",
        "d_test_nf, y_test_nf, d_train_nf, y_train_nf,test_subjectimages_nf=Split(d_nf, label_y_nf,100,1,0)\n"
      ],
      "execution_count": null,
      "outputs": [
        {
          "output_type": "stream",
          "text": [
            "Data Matrix: 400x10304\n",
            " [[ 48  49  45 ...  47  46  46]\n",
            " [ 37  35  35 ...  26  28  28]\n",
            " [101 106 102 ...  46  50  45]\n",
            " ...\n",
            " [208 208 207 ...  87  88  89]\n",
            " [129 129 129 ... 128 131 114]\n",
            " [245 245 245 ...  43  88 174]]\n",
            "\n",
            "Y label vector: \n",
            " [1 1 1 1 1 1 1 1 1 1 1 1 1 1 1 1 1 1 1 1 1 1 1 1 1 1 1 1 1 1 1 1 1 1 1 1 1\n",
            " 1 1 1 1 1 1 1 1 1 1 1 1 1 1 1 1 1 1 1 1 1 1 1 1 1 1 1 1 1 1 1 1 1 1 1 1 1\n",
            " 1 1 1 1 1 1 1 1 1 1 1 1 1 1 1 1 1 1 1 1 1 1 1 1 1 1 2 2 2 2 2 2 2 2 2 2 2\n",
            " 2 2 2 2 2 2 2 2 2 2 2 2 2 2 2 2 2 2 2 2 2 2 2 2 2 2 2 2 2 2 2 2 2 2 2 2 2\n",
            " 2 2 2 2 2 2 2 2 2 2 2 2 2 2 2 2 2 2 2 2 2 2 2 2 2 2 2 2 2 2 2 2 2 2 2 2 2\n",
            " 2 2 2 2 2 2 2 2 2 2 2 2 2 2 2]\n",
            "200\n",
            "Training Dataset: \n",
            " [[ 37  35  35 ...  26  28  28]\n",
            " [119 121 119 ...  82  78  80]\n",
            " [155 154 154 ... 111 111 108]\n",
            " ...\n",
            " [131 133 129 ... 131 125 134]\n",
            " [208 208 207 ...  87  88  89]\n",
            " [245 245 245 ...  43  88 174]]\n",
            "Dimensions:  (100, 10304)\n",
            "\n",
            "Testing Dataset: \n",
            " [[ 48  49  45 ...  47  46  46]\n",
            " [101 106 102 ...  46  50  45]\n",
            " [128 125 126 ...  84  85  85]\n",
            " ...\n",
            " [ 79  85  96 ...  58  66  58]\n",
            " [126 191 115 ... 220 223 207]\n",
            " [129 129 129 ... 128 131 114]]\n",
            "Dimensions:  (100, 10304)\n"
          ],
          "name": "stdout"
        }
      ]
    },
    {
      "cell_type": "code",
      "metadata": {
        "colab": {
          "base_uri": "https://localhost:8080/"
        },
        "id": "N8Kb21TbgUPo",
        "outputId": "6910d5d3-8440-422a-bb42-642ca19ef848"
      },
      "source": [
        "mean_vector_nf, projected_data_u1_nf, projected_data_u2_nf, projected_data_u3_nf, projected_data_u4_nf, projected_data_test_u1_nf, projected_data_test_u2_nf, projected_data_test_u3_nf, projected_data_test_u4_nf =PCA(d_test_nf, y_test_nf, d_train_nf, y_train_nf,200)"
      ],
      "execution_count": null,
      "outputs": [
        {
          "output_type": "stream",
          "text": [
            "Eigen Values Sum 30649227.839699987\n",
            "Eigen Vectors: \n",
            " [[ 0.01420317 -0.00522388 -0.00639952 ...  0.          0.\n",
            "   0.        ]\n",
            " [ 0.01407918 -0.00657062 -0.00751674 ... -0.02005954  0.09359116\n",
            "   0.12074417]\n",
            " [ 0.01448543 -0.0070787  -0.0071349  ... -0.09932477 -0.12172617\n",
            "  -0.64297815]\n",
            " ...\n",
            " [ 0.00627264  0.00220249 -0.00114366 ... -0.00293362 -0.00663609\n",
            "   0.00822794]\n",
            " [ 0.00703472  0.00084879 -0.00145475 ... -0.01327552 -0.01538016\n",
            "  -0.00967552]\n",
            " [ 0.00740629  0.00115142 -0.00394735 ...  0.01410151  0.00278548\n",
            "   0.00500862]]\n",
            "Number of principle compenents is:  28\n",
            "Number of principle compenents is:  36\n",
            "Number of principle compenents is:  47\n",
            "Number of principle compenents is:  63\n"
          ],
          "name": "stdout"
        }
      ]
    },
    {
      "cell_type": "code",
      "metadata": {
        "colab": {
          "base_uri": "https://localhost:8080/"
        },
        "id": "1RqR4wQphNEo",
        "outputId": "9cc98c5c-8da3-49ab-c7e9-2c0d1dec9aee"
      },
      "source": [
        "KNN(1,projected_data_u1_nf,projected_data_test_u1_nf, y_train_nf, y_test_nf)"
      ],
      "execution_count": null,
      "outputs": [
        {
          "output_type": "stream",
          "text": [
            "[1. 1. 1. 1. 1. 1. 1. 1. 1. 1. 1. 1. 1. 1. 1. 1. 1. 1. 1. 1. 1. 1. 1. 1.\n",
            " 1. 1. 1. 1. 1. 1. 1. 2. 1. 1. 1. 1. 1. 1. 1. 1. 1. 1. 1. 1. 1. 1. 1. 1.\n",
            " 1. 1. 2. 2. 2. 2. 2. 2. 2. 2. 2. 2. 2. 2. 2. 2. 2. 2. 2. 2. 2. 2. 2. 2.\n",
            " 2. 2. 2. 2. 2. 2. 2. 2. 2. 2. 2. 2. 2. 2. 2. 2. 1. 2. 2. 2. 2. 2. 2. 2.\n",
            " 2. 2. 2. 2.]\n",
            "Accuracy: 0.98\n"
          ],
          "name": "stdout"
        },
        {
          "output_type": "execute_result",
          "data": {
            "text/plain": [
              "0.98"
            ]
          },
          "metadata": {
            "tags": []
          },
          "execution_count": 22
        }
      ]
    },
    {
      "cell_type": "code",
      "metadata": {
        "colab": {
          "base_uri": "https://localhost:8080/"
        },
        "id": "fT0T9r5TzxV2",
        "outputId": "3f4a8590-e166-4286-fcbe-3558197ce99b"
      },
      "source": [
        "projected_data_nf, projected_data_test_nf=LDA(d_test_nf, d_train_nf,test_subjectimages_nf)\n"
      ],
      "execution_count": null,
      "outputs": [
        {
          "output_type": "stream",
          "text": [
            "5\n",
            "class\n",
            "class\n",
            "class\n",
            "class\n",
            "class\n",
            "class\n",
            "class\n",
            "class\n",
            "class\n",
            "class\n",
            "class\n",
            "class\n",
            "class\n",
            "class\n",
            "class\n",
            "class\n",
            "class\n",
            "class\n",
            "class\n",
            "class\n",
            "Class Mean matrix dimensions\n",
            "(0, 10304)\n",
            "Between Class scatter Matrix (Sb) dimensions \n",
            "(10304, 10304)\n",
            "Within scatter class matrix (s) dimensions\n",
            "(10304, 10304)\n",
            "Projection Matrix U39: \n",
            " [[ 0.00810628  0.0057462  -0.00102447 ...  0.00970964 -0.02251614\n",
            "   0.00720078]\n",
            " [ 0.0128257   0.00652896  0.00398493 ...  0.01450695 -0.02982288\n",
            "   0.00271794]\n",
            " [ 0.01415379  0.00694421  0.00502938 ...  0.01520197 -0.03213301\n",
            "   0.00057648]\n",
            " ...\n",
            " [-0.00023206 -0.00506357  0.00610551 ...  0.00122877  0.00124283\n",
            "   0.0041221 ]\n",
            " [ 0.00131496 -0.00336864  0.00089979 ...  0.00605097  0.00496323\n",
            "   0.0018005 ]\n",
            " [-0.01694784  0.0179622   0.0103194  ...  0.00142827 -0.01058071\n",
            "   0.00528269]]\n"
          ],
          "name": "stdout"
        }
      ]
    },
    {
      "cell_type": "code",
      "metadata": {
        "colab": {
          "base_uri": "https://localhost:8080/"
        },
        "id": "ITa-VQWQ7_Fv",
        "outputId": "af16d0e4-0788-4034-9d43-3d68f1728bbf"
      },
      "source": [
        "KNN(1, projected_data_nf, projected_data_test_nf, y_train_nf, y_test_nf)"
      ],
      "execution_count": null,
      "outputs": [
        {
          "output_type": "stream",
          "text": [
            "[1. 1. 1. 1. 1. 1. 1. 1. 1. 1. 1. 1. 1. 1. 2. 1. 1. 1. 1. 1. 1. 1. 1. 1.\n",
            " 1. 1. 1. 1. 1. 1. 1. 2. 1. 1. 1. 1. 1. 1. 1. 1. 1. 1. 1. 1. 1. 1. 1. 1.\n",
            " 1. 1. 2. 2. 2. 2. 2. 2. 2. 2. 2. 2. 2. 2. 2. 2. 2. 2. 2. 2. 2. 2. 2. 2.\n",
            " 2. 2. 2. 2. 2. 2. 2. 2. 2. 2. 2. 2. 2. 2. 2. 2. 1. 2. 2. 2. 2. 2. 2. 2.\n",
            " 2. 2. 2. 2.]\n",
            "Accuracy: 0.97\n"
          ],
          "name": "stdout"
        },
        {
          "output_type": "execute_result",
          "data": {
            "text/plain": [
              "0.97"
            ]
          },
          "metadata": {
            "tags": []
          },
          "execution_count": 24
        }
      ]
    },
    {
      "cell_type": "code",
      "metadata": {
        "id": "lF1s6fqvrXEx"
      },
      "source": [
        "def variable_nf(d_train_nf, y_train_nf,d_test_nf,y_test_nf):\n",
        "  nf_total=100\n",
        "  ratio=0.4\n",
        "  accuracy_arr = np.empty(4,float)\n",
        "  nf_count_arr = np.empty(0,int)\n",
        "  nf_count=0\n",
        "  offset=10\n",
        "  for i in range(4):\n",
        "    ratio=0.4-(i*0.1)\n",
        "    print(\"ratio is\",ratio)\n",
        "    nf_count=((1-ratio)*nf_total)-50\n",
        "    X_train, X_rubbish, y_train, y_rubbish = train_test_split(d_train_nf, y_train_nf,test_size=ratio,shuffle=False)\n",
        "    mean_vector_nf, projected_data_u1_nf, projected_data_u2_nf, projected_data_u3_nf, projected_data_u4_nf, projected_data_test_u1_nf, projected_data_test_u2_nf, projected_data_test_u3_nf, projected_data_test_u4_nf =PCA(d_test_nf, y_test_nf, X_train,X_train,len(X_train)*2)\n",
        "    accuracy_arr[i]=KNN(1, projected_data_u1_nf, projected_data_test_u1_nf, y_train, y_test_nf)\n",
        "    print(y_train)\n",
        "    #nf_count = nf_count + offset\n",
        "    print(nf_count)\n",
        "    nf_count_arr = np.append(nf_count_arr, [nf_count], axis=0)\n",
        " \n",
        "  plt.plot(nf_count_arr,accuracy_arr)\n",
        "  plt.xlabel(\"Number of Non-Face images\")\n",
        "  plt.ylabel(\"accuracy\")\n",
        "  plt.title('Performance Measure')\n",
        "  plt.show()\n",
        "  print(\"---------------------------------\")\n",
        "  print(nf_count_arr)"
      ],
      "execution_count": null,
      "outputs": []
    },
    {
      "cell_type": "code",
      "metadata": {
        "colab": {
          "base_uri": "https://localhost:8080/",
          "height": 1000
        },
        "id": "QX09mR1508ow",
        "outputId": "653ff4b4-1a25-4341-92c9-4b56ff2adf80"
      },
      "source": [
        "variable_nf(d_train_nf,y_train_nf,d_test_nf,y_test_nf)"
      ],
      "execution_count": null,
      "outputs": [
        {
          "output_type": "stream",
          "text": [
            "ratio is 0.4\n",
            "Eigen Values Sum 22379702.391944423\n",
            "Eigen Vectors: \n",
            " [[ 1.28651633e-02  1.66475401e-02 -1.11467522e-03 ...  0.00000000e+00\n",
            "   0.00000000e+00 -0.00000000e+00]\n",
            " [ 1.28778497e-02  1.57729503e-02 -7.41186403e-04 ...  9.92209082e-03\n",
            "   3.92850353e-03 -2.74759191e-01]\n",
            " [ 1.25133397e-02  1.59708139e-02 -8.57292715e-04 ... -5.11927946e-03\n",
            "   1.05261300e-01  6.62962280e-01]\n",
            " ...\n",
            " [ 8.11088077e-03 -9.53319579e-04  3.18551557e-03 ... -2.03367615e-02\n",
            "  -2.92876072e-03  1.31042987e-03]\n",
            " [ 8.45332598e-03 -2.84041105e-04  2.68509993e-03 ...  2.93510758e-03\n",
            "   1.27406435e-03 -1.13524064e-02]\n",
            " [ 8.25298985e-03  2.60019041e-03  2.41989891e-03 ... -8.28444076e-05\n",
            "   4.52872053e-03  5.80382296e-03]]\n",
            "Number of principle compenents is:  17\n",
            "Number of principle compenents is:  21\n",
            "Number of principle compenents is:  28\n",
            "Number of principle compenents is:  39\n",
            "[1. 1. 1. 1. 1. 1. 1. 1. 1. 1. 1. 1. 1. 1. 1. 1. 1. 1. 1. 1. 1. 1. 1. 1.\n",
            " 1. 1. 1. 1. 1. 1. 1. 1. 1. 1. 1. 1. 1. 1. 1. 1. 1. 1. 1. 1. 1. 1. 1. 1.\n",
            " 1. 1. 2. 2. 1. 2. 1. 1. 2. 2. 2. 2. 2. 1. 1. 2. 1. 2. 2. 1. 2. 2. 2. 2.\n",
            " 2. 2. 2. 2. 2. 2. 2. 2. 2. 2. 1. 2. 2. 2. 2. 2. 1. 1. 2. 2. 2. 1. 1. 2.\n",
            " 1. 1. 2. 2.]\n",
            "Accuracy: 0.86\n",
            "[1. 1. 1. 1. 1. 1. 1. 1. 1. 1. 1. 1. 1. 1. 1. 1. 1. 1. 1. 1. 1. 1. 1. 1.\n",
            " 1. 1. 1. 1. 1. 1. 1. 1. 1. 1. 1. 1. 1. 1. 1. 1. 1. 1. 1. 1. 1. 1. 1. 1.\n",
            " 1. 1. 2. 2. 2. 2. 2. 2. 2. 2. 2. 2.]\n",
            "10.0\n",
            "ratio is 0.30000000000000004\n",
            "Eigen Values Sum 24662483.213610563\n",
            "Eigen Vectors: \n",
            " [[ 0.01487855  0.00478568 -0.01013574 ...  0.          0.\n",
            "   0.        ]\n",
            " [ 0.01472244  0.00513816 -0.00976438 ...  0.00244987  0.05989429\n",
            "   0.36357755]\n",
            " [ 0.01477345  0.00577909 -0.01020055 ... -0.05938635  0.05428438\n",
            "  -0.53472923]\n",
            " ...\n",
            " [ 0.00715151 -0.00224782 -0.00260763 ...  0.00172257 -0.00290866\n",
            "  -0.00392059]\n",
            " [ 0.00789715 -0.00141537 -0.00338362 ... -0.00169487  0.01698097\n",
            "   0.00752356]\n",
            " [ 0.0074313  -0.00102945 -0.00504631 ...  0.00202373 -0.00522464\n",
            "   0.00122684]]\n",
            "Number of principle compenents is:  19\n",
            "Number of principle compenents is:  25\n",
            "Number of principle compenents is:  32\n",
            "Number of principle compenents is:  44\n",
            "[1. 1. 1. 1. 1. 1. 1. 1. 1. 1. 1. 1. 1. 1. 1. 1. 1. 1. 1. 1. 1. 1. 1. 1.\n",
            " 1. 1. 1. 1. 1. 1. 1. 1. 1. 1. 1. 1. 1. 1. 1. 1. 1. 1. 1. 1. 1. 1. 1. 1.\n",
            " 1. 1. 2. 2. 1. 2. 1. 1. 2. 2. 2. 2. 2. 1. 2. 2. 1. 2. 2. 2. 2. 2. 2. 2.\n",
            " 2. 2. 2. 2. 2. 2. 2. 2. 2. 2. 1. 2. 2. 2. 2. 2. 1. 2. 2. 2. 2. 1. 1. 2.\n",
            " 1. 1. 2. 2.]\n",
            "Accuracy: 0.89\n",
            "[1. 1. 1. 1. 1. 1. 1. 1. 1. 1. 1. 1. 1. 1. 1. 1. 1. 1. 1. 1. 1. 1. 1. 1.\n",
            " 1. 1. 1. 1. 1. 1. 1. 1. 1. 1. 1. 1. 1. 1. 1. 1. 1. 1. 1. 1. 1. 1. 1. 1.\n",
            " 1. 1. 2. 2. 2. 2. 2. 2. 2. 2. 2. 2. 2. 2. 2. 2. 2. 2. 2. 2. 2.]\n",
            "20.0\n",
            "ratio is 0.2\n",
            "Eigen Values Sum 27748432.694218736\n",
            "Eigen Vectors: \n",
            " [[-1.44529547e-02  3.19232157e-03  8.83989862e-03 ... -0.00000000e+00\n",
            "   0.00000000e+00 -0.00000000e+00]\n",
            " [-1.35904753e-02  4.85552641e-03  8.22502614e-03 ...  5.92237075e-02\n",
            "  -2.59569745e-02  9.90871087e-02]\n",
            " [-1.41317331e-02  4.67902470e-03  7.71355700e-03 ... -8.07900107e-02\n",
            "   9.24530523e-02 -7.10687250e-01]\n",
            " ...\n",
            " [-6.68004177e-03 -2.99627944e-03 -3.04844452e-04 ... -6.83935618e-03\n",
            "  -9.78956216e-03 -6.02367318e-03]\n",
            " [-7.35972783e-03 -1.57073317e-03 -5.99430052e-04 ...  1.15834722e-02\n",
            "  -2.74315666e-05 -4.10363964e-03]\n",
            " [-7.17760241e-03 -2.51982927e-03  1.69075537e-03 ... -1.16143234e-02\n",
            "  -4.95380982e-03  1.65143610e-03]]\n",
            "Number of principle compenents is:  22\n",
            "Number of principle compenents is:  28\n",
            "Number of principle compenents is:  37\n",
            "Number of principle compenents is:  50\n",
            "[1. 1. 1. 1. 1. 1. 1. 1. 1. 1. 1. 1. 1. 1. 1. 1. 1. 1. 1. 1. 1. 1. 1. 1.\n",
            " 1. 1. 1. 1. 1. 1. 1. 2. 1. 1. 1. 1. 1. 1. 1. 1. 1. 1. 1. 1. 1. 1. 1. 1.\n",
            " 1. 1. 2. 2. 2. 2. 1. 1. 2. 2. 2. 2. 2. 1. 2. 2. 2. 2. 2. 2. 2. 2. 2. 2.\n",
            " 2. 2. 2. 2. 2. 2. 2. 2. 2. 2. 2. 2. 2. 2. 2. 2. 1. 1. 2. 2. 2. 2. 2. 2.\n",
            " 1. 2. 2. 2.]\n",
            "Accuracy: 0.93\n",
            "[1. 1. 1. 1. 1. 1. 1. 1. 1. 1. 1. 1. 1. 1. 1. 1. 1. 1. 1. 1. 1. 1. 1. 1.\n",
            " 1. 1. 1. 1. 1. 1. 1. 1. 1. 1. 1. 1. 1. 1. 1. 1. 1. 1. 1. 1. 1. 1. 1. 1.\n",
            " 1. 1. 2. 2. 2. 2. 2. 2. 2. 2. 2. 2. 2. 2. 2. 2. 2. 2. 2. 2. 2. 2. 2. 2.\n",
            " 2. 2. 2. 2. 2. 2. 2. 2.]\n",
            "30.0\n",
            "ratio is 0.09999999999999998\n",
            "Eigen Values Sum 28717684.561234545\n",
            "Eigen Vectors: \n",
            " [[ 1.36885775e-02 -4.23167273e-03 -7.24756067e-03 ...  0.00000000e+00\n",
            "  -0.00000000e+00 -0.00000000e+00]\n",
            " [ 1.31237477e-02 -4.69618679e-03 -7.91592839e-03 ... -4.17058209e-03\n",
            "   3.11472613e-02  3.01868322e-01]\n",
            " [ 1.34927213e-02 -4.64913275e-03 -7.22543953e-03 ...  3.45158094e-03\n",
            "   6.39499597e-02 -6.39596447e-01]\n",
            " ...\n",
            " [ 6.82496007e-03  1.27138137e-03 -2.71172558e-04 ... -1.08481130e-03\n",
            "  -7.14107333e-03 -4.27493849e-03]\n",
            " [ 7.76774522e-03  2.08512571e-04 -4.54176127e-04 ...  6.40608842e-03\n",
            "   7.57605708e-03 -1.79562414e-03]\n",
            " [ 7.76687016e-03  1.40389979e-03 -2.47179033e-03 ... -1.40501829e-03\n",
            "  -5.00550817e-03  5.08322443e-03]]\n",
            "Number of principle compenents is:  25\n",
            "Number of principle compenents is:  32\n",
            "Number of principle compenents is:  42\n",
            "Number of principle compenents is:  57\n",
            "[1. 1. 1. 1. 1. 1. 1. 1. 1. 1. 1. 1. 1. 1. 1. 1. 1. 1. 1. 1. 1. 1. 1. 1.\n",
            " 1. 1. 1. 1. 1. 1. 1. 2. 1. 1. 1. 1. 1. 1. 1. 1. 1. 1. 1. 1. 1. 1. 1. 1.\n",
            " 1. 1. 2. 2. 2. 2. 2. 2. 2. 2. 2. 2. 2. 2. 2. 2. 2. 2. 2. 2. 2. 2. 2. 2.\n",
            " 2. 2. 2. 2. 2. 2. 2. 2. 2. 2. 2. 2. 2. 2. 2. 2. 1. 2. 2. 2. 2. 2. 2. 2.\n",
            " 2. 2. 2. 2.]\n",
            "Accuracy: 0.98\n",
            "[1. 1. 1. 1. 1. 1. 1. 1. 1. 1. 1. 1. 1. 1. 1. 1. 1. 1. 1. 1. 1. 1. 1. 1.\n",
            " 1. 1. 1. 1. 1. 1. 1. 1. 1. 1. 1. 1. 1. 1. 1. 1. 1. 1. 1. 1. 1. 1. 1. 1.\n",
            " 1. 1. 2. 2. 2. 2. 2. 2. 2. 2. 2. 2. 2. 2. 2. 2. 2. 2. 2. 2. 2. 2. 2. 2.\n",
            " 2. 2. 2. 2. 2. 2. 2. 2. 2. 2. 2. 2. 2. 2. 2. 2. 2. 2.]\n",
            "40.0\n"
          ],
          "name": "stdout"
        },
        {
          "output_type": "display_data",
          "data": {
            "image/png": "[encoded data removed]",
            "text/plain": [
              "<Figure size 432x288 with 1 Axes>"
            ]
          },
          "metadata": {
            "tags": [],
            "needs_background": "light"
          }
        },
        {
          "output_type": "stream",
          "text": [
            "---------------------------------\n",
            "[10. 20. 30. 40.]\n"
          ],
          "name": "stdout"
        }
      ]
    },
    {
      "cell_type": "markdown",
      "metadata": {
        "id": "9cRkgsObMibp"
      },
      "source": [
        "8. Bonus (5 Points)"
      ]
    },
    {
      "cell_type": "code",
      "metadata": {
        "colab": {
          "base_uri": "https://localhost:8080/"
        },
        "id": "JDYfh_-DMrfo",
        "outputId": "27cf3b9e-fbe6-416d-b6b9-c3c201371565"
      },
      "source": [
        "d2, label_y2 = Generate(\"/content/drive/MyDrive/ORL_dataset/s\",40,10,400)\n",
        "d_test2, y_test2, d_train2, y_train2,images_subject2 = Split(d,label_y,10,0,0.7)"
      ],
      "execution_count": null,
      "outputs": [
        {
          "output_type": "stream",
          "text": [
            "Data Matrix: 400x10304\n",
            " [[ 48  49  45 ...  47  46  46]\n",
            " [ 60  60  62 ...  32  34  34]\n",
            " [ 39  44  53 ...  29  26  29]\n",
            " ...\n",
            " [125 119 124 ...  36  39  40]\n",
            " [119 120 120 ...  89  94  85]\n",
            " [125 124 124 ...  36  35  34]]\n",
            "\n",
            "Y label vector: \n",
            " [ 1  1  1  1  1  1  1  1  1  1  2  2  2  2  2  2  2  2  2  2  3  3  3  3\n",
            "  3  3  3  3  3  3  4  4  4  4  4  4  4  4  4  4  5  5  5  5  5  5  5  5\n",
            "  5  5  6  6  6  6  6  6  6  6  6  6  7  7  7  7  7  7  7  7  7  7  8  8\n",
            "  8  8  8  8  8  8  8  8  9  9  9  9  9  9  9  9  9  9 10 10 10 10 10 10\n",
            " 10 10 10 10 11 11 11 11 11 11 11 11 11 11 12 12 12 12 12 12 12 12 12 12\n",
            " 13 13 13 13 13 13 13 13 13 13 14 14 14 14 14 14 14 14 14 14 15 15 15 15\n",
            " 15 15 15 15 15 15 16 16 16 16 16 16 16 16 16 16 17 17 17 17 17 17 17 17\n",
            " 17 17 18 18 18 18 18 18 18 18 18 18 19 19 19 19 19 19 19 19 19 19 20 20\n",
            " 20 20 20 20 20 20 20 20 21 21 21 21 21 21 21 21 21 21 22 22 22 22 22 22\n",
            " 22 22 22 22 23 23 23 23 23 23 23 23 23 23 24 24 24 24 24 24 24 24 24 24\n",
            " 25 25 25 25 25 25 25 25 25 25 26 26 26 26 26 26 26 26 26 26 27 27 27 27\n",
            " 27 27 27 27 27 27 28 28 28 28 28 28 28 28 28 28 29 29 29 29 29 29 29 29\n",
            " 29 29 30 30 30 30 30 30 30 30 30 30 31 31 31 31 31 31 31 31 31 31 32 32\n",
            " 32 32 32 32 32 32 32 32 33 33 33 33 33 33 33 33 33 33 34 34 34 34 34 34\n",
            " 34 34 34 34 35 35 35 35 35 35 35 35 35 35 36 36 36 36 36 36 36 36 36 36\n",
            " 37 37 37 37 37 37 37 37 37 37 38 38 38 38 38 38 38 38 38 38 39 39 39 39\n",
            " 39 39 39 39 39 39 40 40 40 40 40 40 40 40 40 40]\n",
            "400\n",
            "Training Dataset: \n",
            " [[ 48  49  45 ...  47  46  46]\n",
            " [ 60  60  62 ...  32  34  34]\n",
            " [ 39  44  53 ...  29  26  29]\n",
            " ...\n",
            " [128 125 125 ...  85  90  84]\n",
            " [123 121 126 ...  40  35  42]\n",
            " [129 127 133 ...  93  93  93]]\n",
            "Dimensions:  (280, 10304)\n",
            "\n",
            "Testing Dataset: \n",
            " [[ 44  43  32 ...  43  43  37]\n",
            " [ 42  41  44 ...  42  43  41]\n",
            " [ 34  34  33 ...  37  40  33]\n",
            " ...\n",
            " [125 119 124 ...  36  39  40]\n",
            " [119 120 120 ...  89  94  85]\n",
            " [125 124 124 ...  36  35  34]]\n",
            "Dimensions:  (120, 10304)\n"
          ],
          "name": "stdout"
        }
      ]
    },
    {
      "cell_type": "code",
      "metadata": {
        "colab": {
          "base_uri": "https://localhost:8080/"
        },
        "id": "bMCRlBBkPHtv",
        "outputId": "f40f7fe6-f784-48d1-9f9d-2646f184c5fe"
      },
      "source": [
        "mean_vector2, projected_data2_u1, projected_data2_u2, projected_data2_u3, projected_data2_u4, projected_data2_test_u1, projected_data2_test_u2, projected_data2_test_u3, projected_data2_test_u4 = PCA(d_test2, y_test2, d_train2, y_train2,400)"
      ],
      "execution_count": null,
      "outputs": [
        {
          "output_type": "stream",
          "text": [
            "Eigen Values Sum 22507424.51114285\n",
            "Eigen Vectors: \n",
            " [[-0.00403871  0.01417196  0.02094656 ... -0.         -0.\n",
            "   0.        ]\n",
            " [-0.00404218  0.01422572  0.02101922 ...  0.44591999 -0.40839392\n",
            "   0.09080205]\n",
            " [-0.00408664  0.01425748  0.0208947  ... -0.0582928   0.1721656\n",
            "   0.49606992]\n",
            " ...\n",
            " [-0.00559091 -0.01213822  0.01130253 ...  0.01205837 -0.00243668\n",
            "   0.00316342]\n",
            " [-0.00540221 -0.01148277  0.0117586  ...  0.00156832  0.00550255\n",
            "   0.00051871]\n",
            " [-0.00638071 -0.01021068  0.01254827 ...  0.0057419   0.00474042\n",
            "   0.00531018]]\n",
            "Number of principle compenents is:  39\n",
            "Number of principle compenents is:  57\n",
            "Number of principle compenents is:  89\n",
            "Number of principle compenents is:  145\n"
          ],
          "name": "stdout"
        }
      ]
    },
    {
      "cell_type": "code",
      "metadata": {
        "colab": {
          "base_uri": "https://localhost:8080/"
        },
        "id": "6fRkJ7VSQiiU",
        "outputId": "eba8ffa5-0ae4-48ab-d1e8-453fe37a7e08"
      },
      "source": [
        "KNN(1,projected_data2_u1,projected_data2_test_u1, y_train2, y_test2)\n",
        "KNN(1,projected_data2_u2,projected_data2_test_u2, y_train2, y_test2)\n",
        "KNN(1,projected_data2_u3,projected_data2_test_u3, y_train2, y_test2)\n",
        "KNN(1,projected_data2_u4,projected_data2_test_u4, y_train2, y_test2)"
      ],
      "execution_count": null,
      "outputs": [
        {
          "output_type": "stream",
          "text": [
            "[ 1.  1.  1.  2.  2.  2.  3.  3.  3.  4.  4.  4.  5.  5. 40.  6.  6.  6.\n",
            "  7.  7.  7.  8.  8.  8.  9.  9.  9. 10. 10. 38. 11. 11. 11. 12. 12. 12.\n",
            " 13. 13. 13. 14. 14. 14. 15. 15. 15. 16. 16. 16. 17. 17. 17. 18. 18. 18.\n",
            " 19. 27. 19. 20. 20. 20. 21. 21. 21. 22. 22. 22. 23. 38. 23. 24. 24. 24.\n",
            " 25. 25. 25. 26. 26. 26. 27. 27. 27. 37. 28. 28. 29. 29. 29. 30. 30. 30.\n",
            " 31. 31. 31. 32. 32. 32. 33. 33. 33. 34. 34. 34. 35. 35. 35. 36. 36. 36.\n",
            " 37. 37. 37. 38. 38. 38. 39. 39. 39. 40. 40. 40.]\n",
            "Accuracy: 0.9583333333333334\n",
            "[ 1.  1.  1.  2.  2.  2.  3.  3.  3.  4.  4.  4.  5.  5. 40.  6.  6.  6.\n",
            "  7.  7.  7.  8.  8.  8.  9.  9.  9. 10. 10. 38. 11. 11. 11. 12. 12. 12.\n",
            " 13. 13. 13. 14. 14. 14. 15. 15. 15. 16. 16. 16. 17. 17. 17. 18. 18. 18.\n",
            " 19. 15. 19. 20. 20. 20. 21. 21. 21. 22. 22. 22. 23. 23. 23. 24. 24. 24.\n",
            " 25. 25. 25. 26. 26. 26. 27. 27. 27. 37. 28. 28. 29. 29. 29. 30. 30. 30.\n",
            " 31. 31. 31. 32. 32. 32. 33. 33. 33. 34. 34. 34. 35. 35. 35. 36. 36. 36.\n",
            " 37. 37. 37. 38. 38. 38. 39. 39. 39. 40. 40. 40.]\n",
            "Accuracy: 0.9666666666666667\n",
            "[ 1.  1.  1.  2.  2.  2.  3.  3.  3.  4.  4.  4.  5.  5. 40.  6.  6.  6.\n",
            "  7.  7.  7.  8.  8.  8.  9.  9.  9. 10. 10. 38. 11. 11. 11. 12. 12. 12.\n",
            " 13. 13. 13. 14. 14. 14. 15. 15. 15. 16. 16. 16. 17. 17. 17. 18. 18. 18.\n",
            " 19. 15. 19. 20. 20. 20. 21. 21. 21. 22. 22. 22. 23. 23. 23. 24. 24. 24.\n",
            " 25. 25. 25. 26. 26. 26. 27. 27. 27. 37. 28. 28. 29. 29. 29. 30. 30. 30.\n",
            " 31. 31. 31. 32. 32. 32. 33. 33. 33. 34. 34. 34. 35. 35. 35. 36. 36. 36.\n",
            " 37. 37. 37. 38. 38. 38. 39. 39. 39. 40. 40. 40.]\n",
            "Accuracy: 0.9666666666666667\n",
            "[ 1.  1.  1.  2.  2.  2.  3.  3.  3.  4.  4.  4.  5.  5. 40.  6.  6.  6.\n",
            "  7.  7.  7.  8.  8.  8.  9.  9.  9. 10. 10. 38. 11. 11. 11. 12. 12. 12.\n",
            " 13. 13. 13. 14. 14. 14. 15. 15. 15.  4. 16. 16. 17. 17. 17. 18. 18. 18.\n",
            " 19. 15. 19. 20. 20. 20. 21. 21. 21. 22. 22. 22. 23. 23. 23. 24. 24. 24.\n",
            " 25. 25. 25. 26. 26. 26. 27. 27. 27. 37. 28. 28. 29. 29. 29. 30. 30. 30.\n",
            " 31. 31. 31. 32. 32. 32. 33. 33. 33. 34. 34. 34. 35. 35. 35. 36. 36. 36.\n",
            " 37. 37. 37. 38. 38. 38. 39. 39. 39. 40. 40.  5.]\n",
            "Accuracy: 0.95\n"
          ],
          "name": "stdout"
        },
        {
          "output_type": "execute_result",
          "data": {
            "text/plain": [
              "0.95"
            ]
          },
          "metadata": {
            "tags": []
          },
          "execution_count": 29
        }
      ]
    },
    {
      "cell_type": "markdown",
      "metadata": {
        "id": "m9bT0_EcAX0e"
      },
      "source": [
        "Using 50% split resultied in lower accuracy than using 70% training and 30% testing. "
      ]
    }
  ]
}